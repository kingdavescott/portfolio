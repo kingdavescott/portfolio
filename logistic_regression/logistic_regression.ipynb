{
 "cells": [
  {
   "cell_type": "markdown",
   "metadata": {},
   "source": [
    "# Logistic Regression: Predicting Titanic Survivors\n",
    "\n",
    "In this project, we'll be working with the classic Titanic Dataset. These data contain information on 891 Titanic passengers, whether they survived the voyage or not and several features such as ticket class, name, sex, age, etc. We'll try to use these features to predict whether the passenger survived or not using one of the most widely used classification algorithms: logistic regression."
   ]
  },
  {
   "cell_type": "code",
   "execution_count": 296,
   "metadata": {
    "collapsed": true
   },
   "outputs": [],
   "source": [
    "# packages\n",
    "import pandas as pd\n",
    "import numpy as np\n",
    "from sklearn import linear_model\n",
    "from sklearn.cross_validation import train_test_split\n",
    "from sklearn import metrics\n",
    "from matplotlib import pyplot as plt\n",
    "%matplotlib inline"
   ]
  },
  {
   "cell_type": "code",
   "execution_count": 297,
   "metadata": {
    "collapsed": true
   },
   "outputs": [],
   "source": [
    "data = pd.read_csv(\"titanic.csv\")"
   ]
  },
  {
   "cell_type": "code",
   "execution_count": 298,
   "metadata": {
    "collapsed": false
   },
   "outputs": [
    {
     "data": {
      "text/html": [
       "<div>\n",
       "<table border=\"1\" class=\"dataframe\">\n",
       "  <thead>\n",
       "    <tr style=\"text-align: right;\">\n",
       "      <th></th>\n",
       "      <th>PassengerId</th>\n",
       "      <th>Survived</th>\n",
       "      <th>Pclass</th>\n",
       "      <th>Name</th>\n",
       "      <th>Sex</th>\n",
       "      <th>Age</th>\n",
       "      <th>SibSp</th>\n",
       "      <th>Parch</th>\n",
       "      <th>Ticket</th>\n",
       "      <th>Fare</th>\n",
       "      <th>Cabin</th>\n",
       "      <th>Embarked</th>\n",
       "    </tr>\n",
       "  </thead>\n",
       "  <tbody>\n",
       "    <tr>\n",
       "      <th>0</th>\n",
       "      <td>1</td>\n",
       "      <td>0</td>\n",
       "      <td>3</td>\n",
       "      <td>Braund, Mr. Owen Harris</td>\n",
       "      <td>male</td>\n",
       "      <td>22.0</td>\n",
       "      <td>1</td>\n",
       "      <td>0</td>\n",
       "      <td>A/5 21171</td>\n",
       "      <td>7.2500</td>\n",
       "      <td>NaN</td>\n",
       "      <td>S</td>\n",
       "    </tr>\n",
       "    <tr>\n",
       "      <th>1</th>\n",
       "      <td>2</td>\n",
       "      <td>1</td>\n",
       "      <td>1</td>\n",
       "      <td>Cumings, Mrs. John Bradley (Florence Briggs Th...</td>\n",
       "      <td>female</td>\n",
       "      <td>38.0</td>\n",
       "      <td>1</td>\n",
       "      <td>0</td>\n",
       "      <td>PC 17599</td>\n",
       "      <td>71.2833</td>\n",
       "      <td>C85</td>\n",
       "      <td>C</td>\n",
       "    </tr>\n",
       "    <tr>\n",
       "      <th>2</th>\n",
       "      <td>3</td>\n",
       "      <td>1</td>\n",
       "      <td>3</td>\n",
       "      <td>Heikkinen, Miss. Laina</td>\n",
       "      <td>female</td>\n",
       "      <td>26.0</td>\n",
       "      <td>0</td>\n",
       "      <td>0</td>\n",
       "      <td>STON/O2. 3101282</td>\n",
       "      <td>7.9250</td>\n",
       "      <td>NaN</td>\n",
       "      <td>S</td>\n",
       "    </tr>\n",
       "    <tr>\n",
       "      <th>3</th>\n",
       "      <td>4</td>\n",
       "      <td>1</td>\n",
       "      <td>1</td>\n",
       "      <td>Futrelle, Mrs. Jacques Heath (Lily May Peel)</td>\n",
       "      <td>female</td>\n",
       "      <td>35.0</td>\n",
       "      <td>1</td>\n",
       "      <td>0</td>\n",
       "      <td>113803</td>\n",
       "      <td>53.1000</td>\n",
       "      <td>C123</td>\n",
       "      <td>S</td>\n",
       "    </tr>\n",
       "    <tr>\n",
       "      <th>4</th>\n",
       "      <td>5</td>\n",
       "      <td>0</td>\n",
       "      <td>3</td>\n",
       "      <td>Allen, Mr. William Henry</td>\n",
       "      <td>male</td>\n",
       "      <td>35.0</td>\n",
       "      <td>0</td>\n",
       "      <td>0</td>\n",
       "      <td>373450</td>\n",
       "      <td>8.0500</td>\n",
       "      <td>NaN</td>\n",
       "      <td>S</td>\n",
       "    </tr>\n",
       "  </tbody>\n",
       "</table>\n",
       "</div>"
      ],
      "text/plain": [
       "   PassengerId  Survived  Pclass  \\\n",
       "0            1         0       3   \n",
       "1            2         1       1   \n",
       "2            3         1       3   \n",
       "3            4         1       1   \n",
       "4            5         0       3   \n",
       "\n",
       "                                                Name     Sex   Age  SibSp  \\\n",
       "0                            Braund, Mr. Owen Harris    male  22.0      1   \n",
       "1  Cumings, Mrs. John Bradley (Florence Briggs Th...  female  38.0      1   \n",
       "2                             Heikkinen, Miss. Laina  female  26.0      0   \n",
       "3       Futrelle, Mrs. Jacques Heath (Lily May Peel)  female  35.0      1   \n",
       "4                           Allen, Mr. William Henry    male  35.0      0   \n",
       "\n",
       "   Parch            Ticket     Fare Cabin Embarked  \n",
       "0      0         A/5 21171   7.2500   NaN        S  \n",
       "1      0          PC 17599  71.2833   C85        C  \n",
       "2      0  STON/O2. 3101282   7.9250   NaN        S  \n",
       "3      0            113803  53.1000  C123        S  \n",
       "4      0            373450   8.0500   NaN        S  "
      ]
     },
     "execution_count": 298,
     "metadata": {},
     "output_type": "execute_result"
    }
   ],
   "source": [
    "data.head()"
   ]
  },
  {
   "cell_type": "markdown",
   "metadata": {},
   "source": [
    "### Why not linear regression?\n",
    "\n",
    "In your typical regression problem you are using a set of features to predict some continuous, numerical output. Linear regression is fine for this situation because our regression formula\n",
    "$$\\bf{\\hat{y} = x^Tw}$$\n",
    "will map our feature/weight combintations to some continuous, numerical output. Classification is very different because our target variable is now a 0 or a 1 indicating whether the positive case occurred, not a continuous number. In this situtation what we're actually interested in is the probability our observation belongs a certain class given its features.\n",
    "\n",
    "Instead of throwing out the linear regression idea altogether, we'll do a trick to constrain the output between 0 and 1. For a moment let's assign the output of our regression equation to a variable, $z$.\n",
    "\n",
    "$$ z = \\bf{x^Tw} $$\n",
    "\n",
    "Step 1: Find a function that is always positive ( >=0).\n",
    "What could we do to our regression output to make it always positive? How about applying the exponential function?\n",
    "$$ e^z$$\n"
   ]
  },
  {
   "cell_type": "code",
   "execution_count": 299,
   "metadata": {
    "collapsed": false
   },
   "outputs": [
    {
     "data": {
      "text/plain": [
       "<matplotlib.text.Text at 0x2f7cd0c18>"
      ]
     },
     "execution_count": 299,
     "metadata": {},
     "output_type": "execute_result"
    },
    {
     "data": {
      "image/png": "[encoded data removed]",
      "text/plain": [
       "<matplotlib.figure.Figure at 0x2f7cae400>"
      ]
     },
     "metadata": {},
     "output_type": "display_data"
    }
   ],
   "source": [
    "z = np.arange(-10, 10, 0.1)\n",
    "plt.plot(z, np.exp(z))\n",
    "plt.xlabel('z')\n",
    "plt.ylabel('exp(z)')\n",
    "plt.title('Exponential Function')"
   ]
  },
  {
   "cell_type": "markdown",
   "metadata": {},
   "source": [
    "Great, now we have an output that is >=0.\n",
    "\n",
    "Step 2: Constrain the function so that it is less than or equal to 1. What would make this function always = 1? Well we could divide it by itself of course. \n",
    "\n",
    "$$ \\frac{e^{z}}{e^{z}} = 1$$\n",
    "\n",
    "That would just give us a constant which doesn't really help us, but what would happen if we divided it by itself PLUS some small amount, say 1.\n",
    "$$ \\phi(z) = \\frac{e^{z}}{e^{z} + 1} = \\frac{1}{1 + e^{-z}}$$\n"
   ]
  },
  {
   "cell_type": "code",
   "execution_count": 300,
   "metadata": {
    "collapsed": false
   },
   "outputs": [
    {
     "data": {
      "text/plain": [
       "(-0.1, 1.1)"
      ]
     },
     "execution_count": 300,
     "metadata": {},
     "output_type": "execute_result"
    },
    {
     "data": {
      "image/png": "[encoded data removed]",
      "text/plain": [
       "<matplotlib.figure.Figure at 0x2f7cb9828>"
      ]
     },
     "metadata": {},
     "output_type": "display_data"
    }
   ],
   "source": [
    "plt.plot(z, 1 / (1 + np.exp(-z)))\n",
    "plt.xlabel('z')\n",
    "plt.ylabel('logistic(z)')\n",
    "plt.title('Sigmoid (Logistic) Function')\n",
    "plt.ylim(-0.1, 1.1)"
   ]
  },
  {
   "cell_type": "markdown",
   "metadata": {},
   "source": [
    "This is known as the \"sigmoid\" or \"logistic\" function, and it has the property that we need for classification, namely that it maps a continuous input to a value between 0 and 1. The idea behind logistic regression is that this function will serve as the link between the features of the data and our categorical target variable. If we assert that $\\phi(z)$ is now a probability $p$, doing some algebra we obtain the following result.\n",
    "\n",
    "$$ \\begin{array} {lcl} p & = & \\frac{1}{1 + e^{-z}} \\\\ \\frac{1}{p}& = & 1 + e^{-z}  \\\\ \\frac{1}{p} - 1 & = & e^{-z} \\\\ \\ln\\frac{1 - p}{p} & = & -z \\\\ \\ln\\frac{p}{1 - p} & = & \\bf{x^Tw} \\end{array}$$\n",
    "\n",
    "The expression on the left-hand side is called the \"log-odds ratio\". What we find out is that we are implicitly modeling the log-odds of an event occurring as a linear function.\n"
   ]
  },
  {
   "cell_type": "markdown",
   "metadata": {},
   "source": [
    "### Data Preprocessing\n",
    "\n",
    "This dataset present a good opportunity to do some feature engineering to extract all the information we can. Here are some options we explore.\n",
    "\n",
    "- Create \"Title\" feature from parsing the name of the passenger for Mr, Mrs, Capt, etc.\n",
    "- Bin SibSp and Parch for rare cases\n",
    "- Extract the letter from the Cabin column, this represents the deck of the ship"
   ]
  },
  {
   "cell_type": "code",
   "execution_count": 301,
   "metadata": {
    "collapsed": false
   },
   "outputs": [],
   "source": [
    "# extract last name from name column\n",
    "def last_name(row):\n",
    "    split = row['Name'].split(',')\n",
    "    last_name = split[0].strip()\n",
    "    return last_name \n",
    "data['LastName'] = data.apply(last_name, axis=1)\n",
    "\n",
    "# extract title from name and bucket more rare categories\n",
    "def title(row):\n",
    "    split = row['Name'].split(',')\n",
    "    split2 = split[1].split('.')\n",
    "    title = split2[0].strip()\n",
    "    return title\n",
    "data['Title'] = data.apply(title, axis=1)\n",
    "title_dict = {'Mr':'Mr', 'Miss':'Miss', 'Mrs':'Mrs', 'Master':'Master', 'Dr':'Dr', 'Rev':'Rev',\n",
    "              'Major':'Fancy', 'Mlle':'Miss', 'Col':'Fancy', 'Don' :'Fancy', 'Mme':'Mrs',\n",
    "              'Capt':'Fancy', 'Lady':'Fancy', 'Jonkheer':'Fancy', 'the Countess':'Fancy',\n",
    "              'Sir':'Fancy', 'Ms':'Miss'}\n",
    "data['TitleBucket'] = data['Title'].map(title_dict)\n",
    "\n",
    "# bucket SibSp and Parch\n",
    "def sibsp_bucket(row):\n",
    "    if row['SibSp'] >= 5:\n",
    "        return '5+'\n",
    "    else:\n",
    "        return str(row['SibSp'])\n",
    "data['SibSpBucket'] = data.apply(sibsp_bucket, axis=1)\n",
    "\n",
    "def parch_bucket(row):\n",
    "    if row['Parch'] >= 3:\n",
    "        return '3+'\n",
    "    else:\n",
    "        return str(row['Parch'])\n",
    "data['ParchBucket'] = data.apply(parch_bucket, axis=1)\n",
    "\n",
    "# check to see if any of the columns have NA values\n",
    "columns_list = list(data.columns)\n",
    "any_na = []\n",
    "for column in columns_list:\n",
    "    any_na.append(data[column].isnull().any())\n",
    "column_na_df = pd.DataFrame({\"any_na\": any_na, \"column_name\": columns_list})\n",
    "column_na_df = column_na_df[column_na_df['any_na'] == True]\n",
    "# appears that Age, Cabin, and Embarked have NA values\n",
    "\n",
    "# only 2 embarked records are null so just replace with mode 'S'\n",
    "data['Embarked'].fillna('S', inplace=True)\n",
    "\n",
    "# when cabin = NA they appear to just not have a cabin assigned so we'll replace with \"None\" as a string\n",
    "# also extract the lettered section of the cabin which is the deck of the cabin\n",
    "data['Cabin'].fillna('None', inplace=True)\n",
    "\n",
    "def deck(row):\n",
    "    deck =  row['Cabin'][0]\n",
    "    # there's one guy in cabin 'T' - seems like a first class cabin so we'll put in the mode\n",
    "    # deck for first class deck C\n",
    "    if deck == 'T':\n",
    "        deck = 'C'\n",
    "    return deck\n",
    "data['Deck'] = data.apply(deck, axis=1)\n",
    "\n",
    "# now create dummy variables for all the categorical variables\n",
    "pclass_dummies = pd.get_dummies(data['Pclass'], prefix='pclass').drop('pclass_3', axis=1)\n",
    "sex_dummies = pd.get_dummies(data['Sex'], prefix='sex').drop('sex_male', axis=1)\n",
    "title_dummies = pd.get_dummies(data['TitleBucket'], prefix='title').drop('title_Mr', axis=1)\n",
    "deck_dummies = pd.get_dummies(data['Deck'], prefix='deck').drop('deck_N', axis=1)\n",
    "embarked_dummies = pd.get_dummies(data['Embarked'], prefix='embarked').drop('embarked_S', axis=1)\n",
    "sibsp_dummies = pd.get_dummies(data['SibSpBucket'], prefix='sibsp').drop('sibsp_0', axis=1)\n",
    "parch_dummies = pd.get_dummies(data['ParchBucket'], prefix='parch').drop('parch_0', axis=1)"
   ]
  },
  {
   "cell_type": "code",
   "execution_count": 302,
   "metadata": {
    "collapsed": false
   },
   "outputs": [],
   "source": [
    "# in order to deal with the 177 missing ages, we're going to use linear regression to guess\n",
    "# the age column based on the some of the other columns that might provide info on age\n",
    "age_not_null = data['Age'].notnull()\n",
    "age_data = data[age_not_null]\n",
    "\n",
    "# build arrays for model, non missing ages\n",
    "age_X = pd.concat([pclass_dummies[age_not_null], title_dummies[age_not_null], deck_dummies[age_not_null],\n",
    "sibsp_dummies[age_not_null], parch_dummies[age_not_null]], axis=1)\n",
    "age_y = age_data['Age']\n",
    "\n",
    "# build age model\n",
    "am = linear_model.LinearRegression()\n",
    "am.fit(age_X, age_y)\n",
    "\n",
    "# create matrix of predictors for missing age data\n",
    "noage_X = pd.concat([pclass_dummies[-age_not_null], title_dummies[-age_not_null], deck_dummies[-age_not_null],\n",
    "sibsp_dummies[-age_not_null], parch_dummies[-age_not_null]], axis=1)\n",
    "\n",
    "# replace missing ages with predictions from linear model\n",
    "data.loc[-age_not_null, 'Age'] = am.predict(noage_X)"
   ]
  },
  {
   "cell_type": "markdown",
   "metadata": {},
   "source": [
    "### Build the Model"
   ]
  },
  {
   "cell_type": "code",
   "execution_count": 303,
   "metadata": {
    "collapsed": false
   },
   "outputs": [],
   "source": [
    "# final steps to prepare data for model\n",
    "X = pd.concat([data[['Age', 'Fare']], pclass_dummies, title_dummies, deck_dummies,\n",
    "           embarked_dummies, sibsp_dummies, parch_dummies], axis=1)\n",
    "y = data['Survived']\n",
    "features = list(X.columns)\n",
    "X_train, X_test, y_train, y_test = train_test_split(X, y, test_size=0.20, random_state=123)"
   ]
  },
  {
   "cell_type": "code",
   "execution_count": 304,
   "metadata": {
    "collapsed": false
   },
   "outputs": [
    {
     "data": {
      "text/html": [
       "<div>\n",
       "<table border=\"1\" class=\"dataframe\">\n",
       "  <thead>\n",
       "    <tr style=\"text-align: right;\">\n",
       "      <th></th>\n",
       "      <th>coefficient</th>\n",
       "      <th>feature</th>\n",
       "    </tr>\n",
       "  </thead>\n",
       "  <tbody>\n",
       "    <tr>\n",
       "      <th>0</th>\n",
       "      <td>-0.039093</td>\n",
       "      <td>Age</td>\n",
       "    </tr>\n",
       "    <tr>\n",
       "      <th>1</th>\n",
       "      <td>0.002411</td>\n",
       "      <td>Fare</td>\n",
       "    </tr>\n",
       "    <tr>\n",
       "      <th>2</th>\n",
       "      <td>1.738436</td>\n",
       "      <td>pclass_1</td>\n",
       "    </tr>\n",
       "    <tr>\n",
       "      <th>3</th>\n",
       "      <td>0.844460</td>\n",
       "      <td>pclass_2</td>\n",
       "    </tr>\n",
       "    <tr>\n",
       "      <th>4</th>\n",
       "      <td>-0.095168</td>\n",
       "      <td>title_Dr</td>\n",
       "    </tr>\n",
       "    <tr>\n",
       "      <th>5</th>\n",
       "      <td>0.907768</td>\n",
       "      <td>title_Fancy</td>\n",
       "    </tr>\n",
       "    <tr>\n",
       "      <th>6</th>\n",
       "      <td>1.761466</td>\n",
       "      <td>title_Master</td>\n",
       "    </tr>\n",
       "    <tr>\n",
       "      <th>7</th>\n",
       "      <td>2.254707</td>\n",
       "      <td>title_Miss</td>\n",
       "    </tr>\n",
       "    <tr>\n",
       "      <th>8</th>\n",
       "      <td>2.927824</td>\n",
       "      <td>title_Mrs</td>\n",
       "    </tr>\n",
       "    <tr>\n",
       "      <th>9</th>\n",
       "      <td>-0.374008</td>\n",
       "      <td>title_Rev</td>\n",
       "    </tr>\n",
       "    <tr>\n",
       "      <th>10</th>\n",
       "      <td>0.220121</td>\n",
       "      <td>deck_A</td>\n",
       "    </tr>\n",
       "    <tr>\n",
       "      <th>11</th>\n",
       "      <td>0.389008</td>\n",
       "      <td>deck_B</td>\n",
       "    </tr>\n",
       "    <tr>\n",
       "      <th>12</th>\n",
       "      <td>0.158147</td>\n",
       "      <td>deck_C</td>\n",
       "    </tr>\n",
       "    <tr>\n",
       "      <th>13</th>\n",
       "      <td>0.860971</td>\n",
       "      <td>deck_D</td>\n",
       "    </tr>\n",
       "    <tr>\n",
       "      <th>14</th>\n",
       "      <td>0.926666</td>\n",
       "      <td>deck_E</td>\n",
       "    </tr>\n",
       "    <tr>\n",
       "      <th>15</th>\n",
       "      <td>0.535742</td>\n",
       "      <td>deck_F</td>\n",
       "    </tr>\n",
       "    <tr>\n",
       "      <th>16</th>\n",
       "      <td>-0.369116</td>\n",
       "      <td>deck_G</td>\n",
       "    </tr>\n",
       "    <tr>\n",
       "      <th>17</th>\n",
       "      <td>0.246213</td>\n",
       "      <td>embarked_C</td>\n",
       "    </tr>\n",
       "    <tr>\n",
       "      <th>18</th>\n",
       "      <td>0.222258</td>\n",
       "      <td>embarked_Q</td>\n",
       "    </tr>\n",
       "    <tr>\n",
       "      <th>19</th>\n",
       "      <td>0.135139</td>\n",
       "      <td>sibsp_1</td>\n",
       "    </tr>\n",
       "    <tr>\n",
       "      <th>20</th>\n",
       "      <td>-0.031469</td>\n",
       "      <td>sibsp_2</td>\n",
       "    </tr>\n",
       "    <tr>\n",
       "      <th>21</th>\n",
       "      <td>-1.438502</td>\n",
       "      <td>sibsp_3</td>\n",
       "    </tr>\n",
       "    <tr>\n",
       "      <th>22</th>\n",
       "      <td>-1.221435</td>\n",
       "      <td>sibsp_4</td>\n",
       "    </tr>\n",
       "    <tr>\n",
       "      <th>23</th>\n",
       "      <td>-1.577297</td>\n",
       "      <td>sibsp_5+</td>\n",
       "    </tr>\n",
       "    <tr>\n",
       "      <th>24</th>\n",
       "      <td>-0.209892</td>\n",
       "      <td>parch_1</td>\n",
       "    </tr>\n",
       "    <tr>\n",
       "      <th>25</th>\n",
       "      <td>-0.369793</td>\n",
       "      <td>parch_2</td>\n",
       "    </tr>\n",
       "    <tr>\n",
       "      <th>26</th>\n",
       "      <td>-0.739044</td>\n",
       "      <td>parch_3+</td>\n",
       "    </tr>\n",
       "  </tbody>\n",
       "</table>\n",
       "</div>"
      ],
      "text/plain": [
       "    coefficient       feature\n",
       "0     -0.039093           Age\n",
       "1      0.002411          Fare\n",
       "2      1.738436      pclass_1\n",
       "3      0.844460      pclass_2\n",
       "4     -0.095168      title_Dr\n",
       "5      0.907768   title_Fancy\n",
       "6      1.761466  title_Master\n",
       "7      2.254707    title_Miss\n",
       "8      2.927824     title_Mrs\n",
       "9     -0.374008     title_Rev\n",
       "10     0.220121        deck_A\n",
       "11     0.389008        deck_B\n",
       "12     0.158147        deck_C\n",
       "13     0.860971        deck_D\n",
       "14     0.926666        deck_E\n",
       "15     0.535742        deck_F\n",
       "16    -0.369116        deck_G\n",
       "17     0.246213    embarked_C\n",
       "18     0.222258    embarked_Q\n",
       "19     0.135139       sibsp_1\n",
       "20    -0.031469       sibsp_2\n",
       "21    -1.438502       sibsp_3\n",
       "22    -1.221435       sibsp_4\n",
       "23    -1.577297      sibsp_5+\n",
       "24    -0.209892       parch_1\n",
       "25    -0.369793       parch_2\n",
       "26    -0.739044      parch_3+"
      ]
     },
     "execution_count": 304,
     "metadata": {},
     "output_type": "execute_result"
    }
   ],
   "source": [
    "lr = linear_model.LogisticRegression()\n",
    "lr.fit(X_train, y_train)\n",
    "pd.DataFrame({'feature': features, 'coefficient': list(lr.coef_[0])})"
   ]
  },
  {
   "cell_type": "markdown",
   "metadata": {},
   "source": [
    "## to be continued..."
   ]
  }
 ],
 "metadata": {
  "anaconda-cloud": {},
  "kernelspec": {
   "display_name": "Python [conda root]",
   "language": "python",
   "name": "conda-root-py"
  },
  "language_info": {
   "codemirror_mode": {
    "name": "ipython",
    "version": 3
   },
   "file_extension": ".py",
   "mimetype": "text/x-python",
   "name": "python",
   "nbconvert_exporter": "python",
   "pygments_lexer": "ipython3",
   "version": "3.5.2"
  }
 },
 "nbformat": 4,
 "nbformat_minor": 1
}
